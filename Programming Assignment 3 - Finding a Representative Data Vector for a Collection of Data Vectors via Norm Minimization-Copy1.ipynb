{
 "cells": [
  {
   "cell_type": "markdown",
   "metadata": {},
   "source": [
    "##### IE531: Algorithms for Data Analytics #\n",
    "## &copy;  [Professor Ramavarapu \"RS\" Sreenivas](http://rsree.ise.illinois.edu) ##\n",
    "### Industrial and Enterprise Systems Engineering, The Grainger College of Engineering,  UIUC ###\n",
    "\n",
    "<hr style=\"border:2px solid blue\"> </hr>\n",
    "\n",
    "## Programming Assignment 3:  Finding a Representative Data Vector for a Collection of Data Vectors via Norm Minimization ## \n",
    "## Due Date: March 10, 2023 ##\n",
    "\n",
    "***\n",
    "\n",
    "In HW2 you showed that the <i>Norm-Minimization Problem</i> is a special case of <i>Semidefinite Programming</i>. You were introduced to an SDP-solver called <tt>cvxpy</tt> in Lesson 1. More specifically, you showed that the <i>Norm-Minimization Problem</i> is an instance of <i>Second-Order Cone Programming</i> (SOCP), which in turn is a special case of an SDP. At this link ![https://www.cvxpy.org/examples/basic/socp.html] you will find the syntax that will let you use <tt>cvxpy</tt> to solve an SOCP-instance. \n",
    "\n",
    "In this programming assignment, you are given a random collection of data-vectors $\\{{\\bf b}_i\\}_{i=1}^m$, where $\\forall i, {\\bf b}_i \\in \\mathcal{R}^d$. The objective is find a representative <i>d</i>-dimensional data vector ${\\bf y} \\in \\mathcal{R}^d$, that solves\n",
    "$$\n",
    "\\min_{\\bf y} \\left\\{\n",
    "\\max_{i \\in \\{1, 2, \\ldots, m\\}} \\| {\\bf y} - {\\bf b}_i \\|\n",
    "\\right\\}.\n",
    "$$\n",
    "\n",
    "\n",
    "### Programming Assignment ###\n",
    "\n",
    "You are going to augment the Python Code shown below that solves the above problem. Try a couple of different values for <i>d</i> and <i>m</i>. You may/may-not get the same results as me... just saying!\n",
    "\n",
    "I am looking for something along the lines of the figure shown below (for different values for <i>d</i> and <i>m</i>)\n",
    "\n",
    "<table><tr>\n",
    "<td> \n",
    "  <p align=\"center\">\n",
    "    <img alt=\"Routing\" src=\"Figures/fig1.pdf\">\n",
    "    <br>\n",
    "    <em style=\"color: grey\">Figure 1: Sample Output.\n",
    "</em>\n",
    "  </p> \n",
    "</td>\n",
    "</tr></table>\n",
    "***"
   ]
  },
  {
   "cell_type": "code",
   "execution_count": 1,
   "metadata": {},
   "outputs": [],
   "source": [
    "# IE531: Algorithms for Data Analytics\n",
    "#\n",
    "# Hint in the form of a Jupyter Notebook for Programming Assignment 2\n",
    "#\n",
    "#\n",
    "import cvxpy as cp\n",
    "import numpy as np"
   ]
  },
  {
   "cell_type": "code",
   "execution_count": 2,
   "metadata": {},
   "outputs": [
    {
     "name": "stdout",
     "output_type": "stream",
     "text": [
      "[[0.93158616 0.21836496 0.25067286]\n",
      " [0.07378263 0.25377295 0.9591974 ]\n",
      " [0.21820484 0.59932053 0.08499067]\n",
      " [0.92976128 0.65061737 0.94230923]\n",
      " [0.00163542 0.38348864 0.86095751]]\n"
     ]
    }
   ],
   "source": [
    "# The names of the variables are self-explanatory\n",
    "#\n",
    "no_of_data_vectors = 3\n",
    "data_dimension = 5\n",
    "data_matrix = np.random.rand(data_dimension, no_of_data_vectors)\n",
    "print(data_matrix)"
   ]
  },
  {
   "cell_type": "code",
   "execution_count": 16,
   "metadata": {},
   "outputs": [
    {
     "name": "stdout",
     "output_type": "stream",
     "text": [
      "[0.70780297 0.59113161 0.5164912  0.15159544 0.93603674 0.43129653]\n"
     ]
    }
   ],
   "source": [
    "## FILL THIS PART\n",
    "#\n",
    "# Look at the example in https://www.cvxpy.org/examples/basic/socp.html that solves\n",
    "# an SOCP-instance... make relevant changes/modifications to this example to solve \n",
    "# the norm-minimization problem defined above\n",
    "#\n",
    "t = cp.Variable()\n",
    "y = cp.Variable(data_dimension)\n",
    "\n",
    "objective=cp.Minimize(t)\n",
    "soc_constraints = [cp.SOC(t, y - data_matrix[:,i]) for i in range(no_of_data_vectors)]\n",
    "\n",
    "prob = cp.Problem(objective, soc_constraints)\n",
    "prob.solve()\n",
    "\n",
    "\n",
    "x= cp.hstack([t,y])\n",
    "\n"
   ]
  },
  {
   "cell_type": "code",
   "execution_count": 11,
   "metadata": {},
   "outputs": [
    {
     "name": "stdout",
     "output_type": "stream",
     "text": [
      "Data Dimension:  5\n",
      "Number of Data-Vectors:  3\n",
      "The optimal value is 0.7078029669886663\n",
      "A solution x is\n",
      "[0.70780297 0.59113161 0.5164912  0.15159544 0.93603674 0.43129653]\n"
     ]
    }
   ],
   "source": [
    "# Print result... see https://www.cvxpy.org/examples/basic/socp.html \n",
    "# \n",
    "print (\"Data Dimension: \", data_dimension)\n",
    "print (\"Number of Data-Vectors: \", no_of_data_vectors)\n",
    "print (\"The optimal value is\", prob.value)\n",
    "print (\"A solution x is\")\n",
    "print (x.value)"
   ]
  },
  {
   "cell_type": "code",
   "execution_count": 12,
   "metadata": {},
   "outputs": [
    {
     "name": "stdout",
     "output_type": "stream",
     "text": [
      "Representative Vector:\n",
      "[0.59113161 0.5164912  0.15159544 0.93603674 0.43129653]\n",
      "Norm of the representative vector:  1.30436283158974\n",
      "Verification: \n",
      "0.7078029682412825\n",
      "0.7015578474408991\n",
      "0.7078029677067459\n"
     ]
    }
   ],
   "source": [
    "# Verification..\n",
    "solution = np.zeros(data_dimension)\n",
    "for i in range(data_dimension) :\n",
    "    solution[i] = x.value[i+1]\n",
    "print (\"Representative Vector:\")\n",
    "print (solution)\n",
    "print (\"Norm of the representative vector: \", np.linalg.norm(solution))\n",
    "print (\"Verification: \")\n",
    "for i in range(no_of_data_vectors) :\n",
    "    print (np.linalg.norm(solution - data_matrix[:,i]))"
   ]
  },
  {
   "cell_type": "code",
   "execution_count": null,
   "metadata": {},
   "outputs": [],
   "source": []
  },
  {
   "cell_type": "code",
   "execution_count": null,
   "metadata": {},
   "outputs": [],
   "source": []
  }
 ],
 "metadata": {
  "kernelspec": {
   "display_name": "Python 3 (ipykernel)",
   "language": "python",
   "name": "python3"
  },
  "language_info": {
   "codemirror_mode": {
    "name": "ipython",
    "version": 3
   },
   "file_extension": ".py",
   "mimetype": "text/x-python",
   "name": "python",
   "nbconvert_exporter": "python",
   "pygments_lexer": "ipython3",
   "version": "3.9.12"
  }
 },
 "nbformat": 4,
 "nbformat_minor": 2
}
